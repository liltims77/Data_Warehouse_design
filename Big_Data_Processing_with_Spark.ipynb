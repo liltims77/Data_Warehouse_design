{
 "cells": [
  {
   "cell_type": "code",
   "execution_count": 21,
   "id": "0418e703",
   "metadata": {},
   "outputs": [],
   "source": [
    "# Import the SparkSession class from the PySpark SQL module\n",
    "from pyspark.sql import SparkSession"
   ]
  },
  {
   "cell_type": "code",
   "execution_count": 3,
   "id": "428b082d",
   "metadata": {},
   "outputs": [],
   "source": [
    "# Import specific functions from PySpark SQL module\n",
    "# 'col' is used to access columns in a DataFrame for transformations\n",
    "# 'sum' is imported as 'spark_sum' to avoid conflicts with Python's built-in 'sum' function\n",
    "from pyspark.sql.functions import col, sum as spark_sum\n"
   ]
  },
  {
   "cell_type": "code",
   "execution_count": 4,
   "id": "2b600a1a",
   "metadata": {},
   "outputs": [
    {
     "name": "stderr",
     "output_type": "stream",
     "text": [
      "24/12/12 22:29:20 WARN Utils: Your hostname, liltimz resolves to a loopback address: 127.0.1.1; using 172.29.249.245 instead (on interface eth0)\n",
      "24/12/12 22:29:20 WARN Utils: Set SPARK_LOCAL_IP if you need to bind to another address\n",
      "Setting default log level to \"WARN\".\n",
      "To adjust logging level use sc.setLogLevel(newLevel). For SparkR, use setLogLevel(newLevel).\n",
      "24/12/12 22:29:23 WARN NativeCodeLoader: Unable to load native-hadoop library for your platform... using builtin-java classes where applicable\n"
     ]
    }
   ],
   "source": [
    "# Initialize a SparkSession\n",
    "spark = SparkSession.builder \\\n",
    "    .appName(\"Data Processing\") \\\n",
    "    .getOrCreate()"
   ]
  },
  {
   "cell_type": "code",
   "execution_count": 9,
   "id": "87cc206d",
   "metadata": {},
   "outputs": [
    {
     "data": {
      "text/html": [
       "\n",
       "            <div>\n",
       "                <p><b>SparkSession - in-memory</b></p>\n",
       "                \n",
       "        <div>\n",
       "            <p><b>SparkContext</b></p>\n",
       "\n",
       "            <p><a href=\"http://172.29.249.245:4040\">Spark UI</a></p>\n",
       "\n",
       "            <dl>\n",
       "              <dt>Version</dt>\n",
       "                <dd><code>v3.4.1</code></dd>\n",
       "              <dt>Master</dt>\n",
       "                <dd><code>local[*]</code></dd>\n",
       "              <dt>AppName</dt>\n",
       "                <dd><code>Data Processing</code></dd>\n",
       "            </dl>\n",
       "        </div>\n",
       "        \n",
       "            </div>\n",
       "        "
      ],
      "text/plain": [
       "<pyspark.sql.session.SparkSession at 0x7f29b40e5d50>"
      ]
     },
     "execution_count": 9,
     "metadata": {},
     "output_type": "execute_result"
    }
   ],
   "source": [
    "spark"
   ]
  },
  {
   "cell_type": "code",
   "execution_count": 5,
   "id": "0cd9f84a",
   "metadata": {},
   "outputs": [
    {
     "name": "stdout",
     "output_type": "stream",
     "text": [
      "--2024-12-13 02:44:39--  https://d37ci6vzurychx.cloudfront.net/trip-data/fhvhv_tripdata_2021-01.parquet\n",
      "Resolving d37ci6vzurychx.cloudfront.net (d37ci6vzurychx.cloudfront.net)... 18.239.238.133, 18.239.238.152, 18.239.238.212, ...\n",
      "Connecting to d37ci6vzurychx.cloudfront.net (d37ci6vzurychx.cloudfront.net)|18.239.238.133|:443... connected.\n",
      "HTTP request sent, awaiting response... 200 OK\n",
      "Length: 308924937 (295M) [application/x-www-form-urlencoded]\n",
      "Saving to: ‘fhvhv_tripdata_2021-01.parquet’\n",
      "\n",
      "fhvhv_tripdata_2021 100%[===================>] 294.61M  4.27MB/s    in 5m 9s   \n",
      "\n",
      "2024-12-13 02:50:11 (976 KB/s) - ‘fhvhv_tripdata_2021-01.parquet’ saved [308924937/308924937]\n",
      "\n"
     ]
    }
   ],
   "source": [
    "# Downloading dataset using wget\n",
    "# !wget https://d37ci6vzurychx.cloudfront.net/trip-data/fhvhv_tripdata_2021-01.parquet\n"
   ]
  },
  {
   "cell_type": "code",
   "execution_count": null,
   "id": "f9e2d38f",
   "metadata": {},
   "outputs": [],
   "source": []
  },
  {
   "cell_type": "code",
   "execution_count": 6,
   "id": "941e6aa3",
   "metadata": {},
   "outputs": [
    {
     "name": "stdout",
     "output_type": "stream",
     "text": [
      "\u001b[0m\u001b[01;32m'1. using_MAX_date.png'\u001b[0m*                 \u001b[01;32mUntitled.ipynb\u001b[0m*\r\n",
      " \u001b[01;32m1.adding_indexes.png\u001b[0m*                  \u001b[01;32m'archive (1).zip'\u001b[0m*\r\n",
      "\u001b[01;32m'2. using CTE.png'\u001b[0m*                      \u001b[01;32mdimension_model_starschema.png\u001b[0m*\r\n",
      " \u001b[01;32mBig_Data_Processing_with_Spark.ipynb\u001b[0m*   \u001b[01;32mfhvhv_tripdata_2021-01.parquet\u001b[0m*\r\n",
      "\u001b[01;32m'ClickUp - clickup.csv.csv'\u001b[0m*             \u001b[01;32mquestion2.txt\u001b[0m*\r\n",
      " \u001b[01;32mER_diagram_model.png\u001b[0m*                   \u001b[01;32mupload_source_datasets.ipynb\u001b[0m*\r\n",
      " \u001b[01;32mETL_SCRIPTS.ipynb\u001b[0m*                      \u001b[01;32mvalidation_1.png\u001b[0m*\r\n",
      "\u001b[01;32m'Float - allocations.csv.csv'\u001b[0m*           \u001b[01;32mvalidation_2.png\u001b[0m*\r\n",
      "\u001b[01;32m'Global Health Statistics.csv'\u001b[0m*          \u001b[01;32mvalidation_3.png\u001b[0m*\r\n",
      " \u001b[01;32mLOAD_INTO_EDW.png\u001b[0m*                      \u001b[01;32mvalidation_4.png\u001b[0m*\r\n",
      " \u001b[01;32mLOAD_OLD.ipynb\u001b[0m*                         \u001b[01;32mvalidation_5.png\u001b[0m*\r\n",
      "\u001b[01;32m'Query optimization question.png'\u001b[0m*       \u001b[01;32mvalidation_6.png\u001b[0m*\r\n",
      "\u001b[01;32m'STARSCHEMA_AND ER_CODES.txt'\u001b[0m*\r\n"
     ]
    }
   ],
   "source": [
    "ls"
   ]
  },
  {
   "cell_type": "code",
   "execution_count": 11,
   "id": "7ab733ae",
   "metadata": {},
   "outputs": [],
   "source": [
    "# Read a Parquet file into a Spark DataFrame\n",
    "df = spark.read \\\n",
    "    .option(\"header\", \"true\") \\\n",
    "    .parquet('fhvhv_tripdata_2021-01.parquet')"
   ]
  },
  {
   "cell_type": "code",
   "execution_count": 12,
   "id": "e1d7026c",
   "metadata": {},
   "outputs": [
    {
     "name": "stderr",
     "output_type": "stream",
     "text": [
      "                                                                                \r"
     ]
    },
    {
     "name": "stdout",
     "output_type": "stream",
     "text": [
      "+-----------------+--------------------+--------------------+-------------------+-------------------+-------------------+-------------------+------------+------------+----------+---------+-------------------+-----+----+---------+--------------------+-----------+----+----------+-------------------+-----------------+------------------+----------------+--------------+\n",
      "|hvfhs_license_num|dispatching_base_num|originating_base_num|   request_datetime|  on_scene_datetime|    pickup_datetime|   dropoff_datetime|PULocationID|DOLocationID|trip_miles|trip_time|base_passenger_fare|tolls| bcf|sales_tax|congestion_surcharge|airport_fee|tips|driver_pay|shared_request_flag|shared_match_flag|access_a_ride_flag|wav_request_flag|wav_match_flag|\n",
      "+-----------------+--------------------+--------------------+-------------------+-------------------+-------------------+-------------------+------------+------------+----------+---------+-------------------+-----+----+---------+--------------------+-----------+----+----------+-------------------+-----------------+------------------+----------------+--------------+\n",
      "|           HV0003|              B02682|              B02682|2021-01-01 00:28:09|2021-01-01 00:31:42|2021-01-01 00:33:44|2021-01-01 00:49:07|         230|         166|      5.26|      923|              22.28|  0.0|0.67|     1.98|                2.75|       null| 0.0|     14.99|                  N|                N|                  |               N|             N|\n",
      "|           HV0003|              B02682|              B02682|2021-01-01 00:45:56|2021-01-01 00:55:19|2021-01-01 00:55:19|2021-01-01 01:18:21|         152|         167|      3.65|     1382|              18.36|  0.0|0.55|     1.63|                 0.0|       null| 0.0|     17.06|                  N|                N|                  |               N|             N|\n",
      "|           HV0003|              B02764|              B02764|2021-01-01 00:21:15|2021-01-01 00:22:41|2021-01-01 00:23:56|2021-01-01 00:38:05|         233|         142|      3.51|      849|              14.05|  0.0|0.48|     1.25|                2.75|       null|0.94|     12.98|                  N|                N|                  |               N|             N|\n",
      "|           HV0003|              B02764|              B02764|2021-01-01 00:39:12|2021-01-01 00:42:37|2021-01-01 00:42:51|2021-01-01 00:45:50|         142|         143|      0.74|      179|               7.91|  0.0|0.24|      0.7|                2.75|       null| 0.0|      7.41|                  N|                N|                  |               N|             N|\n",
      "|           HV0003|              B02764|              B02764|2021-01-01 00:46:11|2021-01-01 00:47:17|2021-01-01 00:48:14|2021-01-01 01:08:42|         143|          78|       9.2|     1228|              27.11|  0.0|0.81|     2.41|                2.75|       null| 0.0|     22.44|                  N|                N|                  |               N|             N|\n",
      "|           HV0005|              B02510|                null|2021-01-01 00:04:00|               null|2021-01-01 00:06:59|2021-01-01 00:43:01|          88|          42|     9.725|     2162|              28.11|  0.0|0.84|     2.49|                2.75|       null| 0.0|      28.9|                  N|                N|                 N|               N|             N|\n",
      "|           HV0005|              B02510|                null|2021-01-01 00:40:06|               null|2021-01-01 00:50:00|2021-01-01 01:04:57|          42|         151|     2.469|      897|              25.03|  0.0|0.75|     2.22|                 0.0|       null| 0.0|     15.01|                  N|                N|                 N|               N|             N|\n",
      "|           HV0003|              B02764|              B02764|2021-01-01 00:10:36|2021-01-01 00:12:28|2021-01-01 00:14:30|2021-01-01 00:50:27|          71|         226|     13.53|     2157|              29.67|  0.0|1.04|     3.08|                 0.0|       null| 0.0|      34.2|                  N|                N|                  |               N|             N|\n",
      "|           HV0003|              B02875|              B02875|2021-01-01 00:21:17|2021-01-01 00:22:25|2021-01-01 00:22:54|2021-01-01 00:30:20|         112|         255|       1.6|      446|               6.89|  0.0|0.21|     0.61|                 0.0|       null| 0.0|      6.26|                  N|                N|                  |               N|             N|\n",
      "|           HV0003|              B02875|              B02875|2021-01-01 00:36:57|2021-01-01 00:38:09|2021-01-01 00:40:12|2021-01-01 00:53:31|         255|         232|       3.2|      800|              11.51|  0.0|0.53|     1.03|                2.75|       null|2.82|     10.99|                  N|                N|                  |               N|             N|\n",
      "|           HV0003|              B02875|              B02875|2021-01-01 00:53:31|2021-01-01 00:56:21|2021-01-01 00:56:45|2021-01-01 01:17:42|         232|         198|      5.74|     1257|              17.18|  0.0|0.52|     1.52|                2.75|       null| 0.0|     17.61|                  N|                N|                  |               N|             N|\n",
      "|           HV0003|              B02835|              B02835|2021-01-01 00:22:58|2021-01-01 00:27:01|2021-01-01 00:29:04|2021-01-01 00:36:27|         113|          48|       1.8|      443|               8.18|  0.0|0.25|     0.73|                2.75|       null| 0.0|      6.12|                  N|                N|                  |               N|             N|\n",
      "|           HV0003|              B02835|              B02835|2021-01-01 00:46:44|2021-01-01 00:47:49|2021-01-01 00:48:56|2021-01-01 00:59:12|         239|          75|       2.9|      616|               13.1|  0.0|0.45|     1.17|                2.75|       null|0.94|      8.77|                  N|                N|                  |               N|             N|\n",
      "|           HV0004|              B02800|                null|2021-01-01 00:12:50|               null|2021-01-01 00:15:24|2021-01-01 00:38:31|         181|         237|      9.66|     1387|              32.95|  0.0| 0.0|     2.34|                2.75|       null| 0.0|      21.1|                  N|                N|                 N|               N|             N|\n",
      "|           HV0004|              B02800|                null|2021-01-01 00:35:32|               null|2021-01-01 00:45:00|2021-01-01 01:06:45|         236|          68|      4.38|     1305|              22.91|  0.0| 0.0|     1.63|                2.75|       null|3.43|     15.82|                  N|                N|                 N|               N|             N|\n",
      "|           HV0003|              B02682|              B02682|2021-01-01 00:10:22|2021-01-01 00:11:03|2021-01-01 00:11:53|2021-01-01 00:18:06|         256|         148|      2.03|      373|               7.84|  0.0|0.42|      0.7|                2.75|       null|2.82|      6.93|                  N|                N|                  |               N|             N|\n",
      "|           HV0003|              B02682|              B02682|2021-01-01 00:25:00|2021-01-01 00:26:31|2021-01-01 00:28:31|2021-01-01 00:41:40|          79|          80|      3.08|      789|               13.2|  0.0| 0.4|     1.17|                2.75|       null| 0.0|     11.54|                  N|                N|                  |               N|             N|\n",
      "|           HV0003|              B02682|              B02682|2021-01-01 00:44:56|2021-01-01 00:49:55|2021-01-01 00:50:49|2021-01-01 00:55:59|          17|         217|      1.17|      310|               7.91|  0.0|0.24|      0.7|                 0.0|       null| 0.0|      6.94|                  N|                N|                  |               N|             N|\n",
      "|           HV0005|              B02510|                null|2021-01-01 00:05:04|               null|2021-01-01 00:08:40|2021-01-01 00:39:39|          62|          29|    10.852|     1859|              31.18|  0.0|0.94|     2.77|                 0.0|       null| 0.0|     27.61|                  N|                N|                 N|               N|             N|\n",
      "|           HV0003|              B02836|              B02836|2021-01-01 00:40:44|2021-01-01 00:53:34|2021-01-01 00:53:48|2021-01-01 01:11:40|          22|          22|      3.52|     1072|              28.67|  0.0|0.86|     2.54|                 0.0|       null| 0.0|     17.64|                  N|                N|                  |               N|             N|\n",
      "+-----------------+--------------------+--------------------+-------------------+-------------------+-------------------+-------------------+------------+------------+----------+---------+-------------------+-----+----+---------+--------------------+-----------+----+----------+-------------------+-----------------+------------------+----------------+--------------+\n",
      "only showing top 20 rows\n",
      "\n"
     ]
    }
   ],
   "source": [
    "df.show()"
   ]
  },
  {
   "cell_type": "code",
   "execution_count": 13,
   "id": "5d7c7224",
   "metadata": {},
   "outputs": [
    {
     "data": {
      "text/plain": [
       "StructType([StructField('hvfhs_license_num', StringType(), True), StructField('dispatching_base_num', StringType(), True), StructField('originating_base_num', StringType(), True), StructField('request_datetime', TimestampNTZType(), True), StructField('on_scene_datetime', TimestampNTZType(), True), StructField('pickup_datetime', TimestampNTZType(), True), StructField('dropoff_datetime', TimestampNTZType(), True), StructField('PULocationID', LongType(), True), StructField('DOLocationID', LongType(), True), StructField('trip_miles', DoubleType(), True), StructField('trip_time', LongType(), True), StructField('base_passenger_fare', DoubleType(), True), StructField('tolls', DoubleType(), True), StructField('bcf', DoubleType(), True), StructField('sales_tax', DoubleType(), True), StructField('congestion_surcharge', DoubleType(), True), StructField('airport_fee', DoubleType(), True), StructField('tips', DoubleType(), True), StructField('driver_pay', DoubleType(), True), StructField('shared_request_flag', StringType(), True), StructField('shared_match_flag', StringType(), True), StructField('access_a_ride_flag', StringType(), True), StructField('wav_request_flag', StringType(), True), StructField('wav_match_flag', StringType(), True)])"
      ]
     },
     "execution_count": 13,
     "metadata": {},
     "output_type": "execute_result"
    }
   ],
   "source": [
    "df.schema"
   ]
  },
  {
   "cell_type": "code",
   "execution_count": 14,
   "id": "ee1806b0",
   "metadata": {},
   "outputs": [],
   "source": [
    "# Extract the first 1001 lines from the Parquet file and save it to a new file named head.parquet\n",
    "!head -n 1001 fhvhv_tripdata_2021-01.parquet > head.parquet"
   ]
  },
  {
   "cell_type": "code",
   "execution_count": 15,
   "id": "91bd6d51",
   "metadata": {},
   "outputs": [
    {
     "name": "stdout",
     "output_type": "stream",
     "text": [
      "\u001b[0m\u001b[01;32m'1. using_MAX_date.png'\u001b[0m*                 \u001b[01;32mUntitled.ipynb\u001b[0m*\r\n",
      " \u001b[01;32m1.adding_indexes.png\u001b[0m*                  \u001b[01;32m'archive (1).zip'\u001b[0m*\r\n",
      "\u001b[01;32m'2. using CTE.png'\u001b[0m*                      \u001b[01;32mdimension_model_starschema.png\u001b[0m*\r\n",
      " \u001b[01;32mBig_Data_Processing_with_Spark.ipynb\u001b[0m*   \u001b[01;32mfhvhv_tripdata_2021-01.parquet\u001b[0m*\r\n",
      "\u001b[01;32m'ClickUp - clickup.csv.csv'\u001b[0m*             \u001b[01;32mhead.parquet\u001b[0m*\r\n",
      " \u001b[01;32mER_diagram_model.png\u001b[0m*                   \u001b[01;32mquestion2.txt\u001b[0m*\r\n",
      " \u001b[01;32mETL_SCRIPTS.ipynb\u001b[0m*                      \u001b[01;32mupload_source_datasets.ipynb\u001b[0m*\r\n",
      "\u001b[01;32m'Float - allocations.csv.csv'\u001b[0m*           \u001b[01;32mvalidation_1.png\u001b[0m*\r\n",
      "\u001b[01;32m'Global Health Statistics.csv'\u001b[0m*          \u001b[01;32mvalidation_2.png\u001b[0m*\r\n",
      " \u001b[01;32mLOAD_INTO_EDW.png\u001b[0m*                      \u001b[01;32mvalidation_3.png\u001b[0m*\r\n",
      " \u001b[01;32mLOAD_OLD.ipynb\u001b[0m*                         \u001b[01;32mvalidation_4.png\u001b[0m*\r\n",
      "\u001b[01;32m'Query optimization question.png'\u001b[0m*       \u001b[01;32mvalidation_5.png\u001b[0m*\r\n",
      "\u001b[01;32m'STARSCHEMA_AND ER_CODES.txt'\u001b[0m*           \u001b[01;32mvalidation_6.png\u001b[0m*\r\n"
     ]
    }
   ],
   "source": [
    "ls"
   ]
  },
  {
   "cell_type": "code",
   "execution_count": 16,
   "id": "45169a6d",
   "metadata": {},
   "outputs": [],
   "source": [
    "# Repartition the DataFrame into 24 partitions\n",
    "# Repartitioning redistributes the data across a specified number of partitions\n",
    "# This is useful for parallel processing in distributed systems like Spark\n",
    "# Increasing partitions can improve performance for large datasets by leveraging more resources\n",
    "# However, excessive repartitioning can lead to overhead and reduced performance\n",
    "df = df.repartition(24)"
   ]
  },
  {
   "cell_type": "code",
   "execution_count": 17,
   "id": "3c23192c",
   "metadata": {},
   "outputs": [
    {
     "name": "stdout",
     "output_type": "stream",
     "text": [
      "root\n",
      " |-- hvfhs_license_num: string (nullable = true)\n",
      " |-- dispatching_base_num: string (nullable = true)\n",
      " |-- originating_base_num: string (nullable = true)\n",
      " |-- request_datetime: timestamp_ntz (nullable = true)\n",
      " |-- on_scene_datetime: timestamp_ntz (nullable = true)\n",
      " |-- pickup_datetime: timestamp_ntz (nullable = true)\n",
      " |-- dropoff_datetime: timestamp_ntz (nullable = true)\n",
      " |-- PULocationID: long (nullable = true)\n",
      " |-- DOLocationID: long (nullable = true)\n",
      " |-- trip_miles: double (nullable = true)\n",
      " |-- trip_time: long (nullable = true)\n",
      " |-- base_passenger_fare: double (nullable = true)\n",
      " |-- tolls: double (nullable = true)\n",
      " |-- bcf: double (nullable = true)\n",
      " |-- sales_tax: double (nullable = true)\n",
      " |-- congestion_surcharge: double (nullable = true)\n",
      " |-- airport_fee: double (nullable = true)\n",
      " |-- tips: double (nullable = true)\n",
      " |-- driver_pay: double (nullable = true)\n",
      " |-- shared_request_flag: string (nullable = true)\n",
      " |-- shared_match_flag: string (nullable = true)\n",
      " |-- access_a_ride_flag: string (nullable = true)\n",
      " |-- wav_request_flag: string (nullable = true)\n",
      " |-- wav_match_flag: string (nullable = true)\n",
      "\n"
     ]
    }
   ],
   "source": [
    "# Print the schema of the DataFrame\n",
    "df.printSchema()"
   ]
  },
  {
   "cell_type": "code",
   "execution_count": 18,
   "id": "b463236a",
   "metadata": {},
   "outputs": [],
   "source": [
    "# Import the 'types' module from PySpark SQL\n",
    "from pyspark.sql import types"
   ]
  },
  {
   "cell_type": "code",
   "execution_count": 19,
   "id": "15bbdc7a",
   "metadata": {},
   "outputs": [
    {
     "name": "stdout",
     "output_type": "stream",
     "text": [
      "root\n",
      " |-- hvfhs_license_num: string (nullable = true)\n",
      " |-- dispatching_base_num: string (nullable = true)\n",
      " |-- originating_base_num: string (nullable = true)\n",
      " |-- request_datetime: timestamp_ntz (nullable = true)\n",
      " |-- on_scene_datetime: timestamp_ntz (nullable = true)\n",
      " |-- pickup_datetime: timestamp_ntz (nullable = true)\n",
      " |-- dropoff_datetime: timestamp_ntz (nullable = true)\n",
      " |-- PULocationID: long (nullable = true)\n",
      " |-- DOLocationID: long (nullable = true)\n",
      " |-- trip_miles: double (nullable = true)\n",
      " |-- trip_time: long (nullable = true)\n",
      " |-- base_passenger_fare: double (nullable = true)\n",
      " |-- tolls: double (nullable = true)\n",
      " |-- bcf: double (nullable = true)\n",
      " |-- sales_tax: double (nullable = true)\n",
      " |-- congestion_surcharge: double (nullable = true)\n",
      " |-- airport_fee: double (nullable = true)\n",
      " |-- tips: double (nullable = true)\n",
      " |-- driver_pay: double (nullable = true)\n",
      " |-- shared_request_flag: string (nullable = true)\n",
      " |-- shared_match_flag: string (nullable = true)\n",
      " |-- access_a_ride_flag: string (nullable = true)\n",
      " |-- wav_request_flag: string (nullable = true)\n",
      " |-- wav_match_flag: string (nullable = true)\n",
      "\n"
     ]
    }
   ],
   "source": [
    "df.printSchema()"
   ]
  },
  {
   "cell_type": "code",
   "execution_count": 20,
   "id": "a28e72ef",
   "metadata": {},
   "outputs": [
    {
     "name": "stderr",
     "output_type": "stream",
     "text": [
      "[Stage 7:============================================>              (3 + 1) / 4]\r"
     ]
    },
    {
     "name": "stdout",
     "output_type": "stream",
     "text": [
      "+-----------------+--------------------+--------------------+-------------------+-------------------+-------------------+-------------------+------------+------------+----------+---------+-------------------+-----+----+---------+--------------------+-----------+----+----------+-------------------+-----------------+------------------+----------------+--------------+\n",
      "|hvfhs_license_num|dispatching_base_num|originating_base_num|   request_datetime|  on_scene_datetime|    pickup_datetime|   dropoff_datetime|PULocationID|DOLocationID|trip_miles|trip_time|base_passenger_fare|tolls| bcf|sales_tax|congestion_surcharge|airport_fee|tips|driver_pay|shared_request_flag|shared_match_flag|access_a_ride_flag|wav_request_flag|wav_match_flag|\n",
      "+-----------------+--------------------+--------------------+-------------------+-------------------+-------------------+-------------------+------------+------------+----------+---------+-------------------+-----+----+---------+--------------------+-----------+----+----------+-------------------+-----------------+------------------+----------------+--------------+\n",
      "|           HV0003|              B02764|              B02764|2021-01-15 18:37:48|2021-01-15 18:40:23|2021-01-15 18:42:24|2021-01-15 19:02:35|         256|          17|      2.59|     1212|              15.37|  0.0|0.46|     1.36|                 0.0|       null| 0.0|     18.07|                  N|                N|                  |               N|             N|\n",
      "|           HV0003|              B02764|              B02764|2021-01-19 10:53:43|2021-01-19 10:57:39|2021-01-19 10:57:44|2021-01-19 11:01:45|          71|          89|      0.69|      241|                8.7|  0.0|0.26|     0.77|                 0.0|       null| 0.0|       5.4|                  N|                N|                  |               N|             N|\n",
      "|           HV0003|              B02875|              B02875|2021-01-23 15:14:16|2021-01-23 15:25:36|2021-01-23 15:26:02|2021-01-23 15:39:44|          76|          37|      2.14|      822|              10.97|  0.0|0.33|     0.97|                 0.0|       null| 0.0|      9.24|                  N|                N|                  |               N|             N|\n",
      "|           HV0005|              B02510|                null|2021-01-20 13:13:07|               null|2021-01-20 13:15:15|2021-01-20 13:26:27|         107|         148|     1.463|      672|              10.86|  0.0|0.33|     0.96|                2.75|       null| 3.0|      7.24|                  N|                N|                 N|               N|             N|\n",
      "|           HV0005|              B02510|                null|2021-01-27 09:21:02|               null|2021-01-27 09:23:08|2021-01-27 09:40:56|          75|         170|     4.837|     1068|              20.45|  0.0|0.61|     1.81|                2.75|       null| 0.0|     14.32|                  N|                N|                 N|               N|             N|\n",
      "|           HV0003|              B02875|              B02875|2021-01-31 09:20:21|2021-01-31 09:22:20|2021-01-31 09:24:21|2021-01-31 09:38:10|          92|          73|       2.6|      829|               11.8|  0.0|0.35|     1.05|                 0.0|       null| 0.0|       0.0|                  N|                N|                  |               N|             Y|\n",
      "|           HV0005|              B02510|                null|2021-01-28 07:49:51|               null|2021-01-28 07:55:01|2021-01-28 08:06:49|          76|          72|     2.368|      708|               13.0|  0.0|0.39|     1.15|                 0.0|       null| 0.0|      8.56|                  N|                N|                 N|               N|             N|\n",
      "|           HV0003|              B02764|              B02764|2021-01-16 13:31:17|2021-01-16 13:33:28|2021-01-16 13:34:30|2021-01-16 13:57:08|         246|         229|      3.68|     1358|              16.06|  0.0|0.48|     1.43|                2.75|       null| 0.0|     15.42|                  N|                N|                  |               N|             N|\n",
      "|           HV0003|              B02884|              B02884|2021-01-07 08:59:22|2021-01-07 09:01:48|2021-01-07 09:02:05|2021-01-07 09:38:56|         170|          25|      5.55|     2211|              27.95|  0.0|0.84|     2.48|                2.75|       null| 0.0|     24.62|                  N|                N|                  |               N|             N|\n",
      "|           HV0003|              B02880|              B02880|2021-01-21 19:46:52|2021-01-21 19:47:44|2021-01-21 19:48:24|2021-01-21 19:55:59|         216|         215|      1.99|      455|               8.08|  0.0|0.24|     0.72|                 0.0|       null| 0.0|      6.01|                  N|                N|                  |               N|             N|\n",
      "|           HV0003|              B02869|              B02869|2021-01-05 15:11:12|2021-01-05 15:13:41|2021-01-05 15:14:41|2021-01-05 15:21:34|          76|          63|      1.29|      413|               7.91|  0.0|0.24|      0.7|                 0.0|       null| 0.0|       5.4|                  N|                N|                  |               N|             N|\n",
      "|           HV0003|              B02764|              B02764|2021-01-01 03:20:21|2021-01-01 03:22:29|2021-01-01 03:24:21|2021-01-01 03:36:40|          74|         136|      5.69|      739|              17.97|  0.0|0.54|     1.59|                 0.0|       null| 0.0|     14.84|                  N|                N|                  |               N|             N|\n",
      "|           HV0003|              B02883|              B02883|2021-01-09 15:11:30|2021-01-09 15:13:01|2021-01-09 15:13:12|2021-01-09 15:50:25|          37|         244|     14.47|     2233|              38.87| 6.12|1.35|     3.99|                 0.0|       null| 0.0|     34.64|                  N|                N|                  |               N|             N|\n",
      "|           HV0003|              B02869|              B02869|2021-01-15 14:52:36|2021-01-15 14:55:27|2021-01-15 14:56:28|2021-01-15 15:08:35|          22|         108|      2.15|      727|              11.69|  0.0|0.35|     1.04|                 0.0|       null| 0.0|      8.45|                  N|                N|                  |               N|             N|\n",
      "|           HV0003|              B02866|              B02866|2021-01-24 00:13:26|2021-01-24 00:15:34|2021-01-24 00:15:59|2021-01-24 00:34:46|          32|         168|      7.89|     1127|              20.26|  0.0|0.61|      1.8|                 0.0|       null| 0.0|     18.13|                  N|                N|                  |               N|             N|\n",
      "|           HV0003|              B02764|              B02764|2021-01-16 04:19:02|2021-01-16 04:24:47|2021-01-16 04:26:24|2021-01-16 04:38:27|         250|         212|      2.35|      723|               9.21|  0.0|0.28|     0.82|                 0.0|       null| 0.0|      8.65|                  N|                N|                  |               N|             N|\n",
      "|           HV0003|              B02872|              B02872|2021-01-05 13:40:38|2021-01-05 13:42:41|2021-01-05 13:43:48|2021-01-05 13:53:52|          82|         173|      1.36|      604|               9.86|  0.0| 0.3|     0.88|                 0.0|       null| 0.0|      6.56|                  N|                N|                  |               N|             N|\n",
      "|           HV0003|              B02871|              B02871|2021-01-06 04:19:40|2021-01-06 04:20:38|2021-01-06 04:21:52|2021-01-06 04:24:12|          37|          37|      0.51|      140|               6.33|  0.0|0.19|     0.56|                 0.0|       null| 0.0|      5.39|                  N|                N|                  |               N|             N|\n",
      "|           HV0005|              B02510|                null|2021-01-16 00:11:16|               null|2021-01-16 00:19:17|2021-01-16 00:25:57|          45|         232|     1.255|      400|               7.77|  0.0|0.23|     0.69|                2.75|       null| 3.0|      5.47|                  N|                N|                 N|               N|             N|\n",
      "|           HV0003|              B02877|              B02877|2021-01-01 19:24:47|2021-01-01 19:28:21|2021-01-01 19:28:45|2021-01-01 19:39:36|         239|         158|      3.88|      651|              17.79|  0.0|0.53|     1.58|                2.75|       null| 0.0|     10.94|                  N|                N|                  |               N|             N|\n",
      "+-----------------+--------------------+--------------------+-------------------+-------------------+-------------------+-------------------+------------+------------+----------+---------+-------------------+-----+----+---------+--------------------+-----------+----+----------+-------------------+-----------------+------------------+----------------+--------------+\n",
      "only showing top 20 rows\n",
      "\n"
     ]
    },
    {
     "name": "stderr",
     "output_type": "stream",
     "text": [
      "\r",
      "                                                                                \r"
     ]
    }
   ],
   "source": [
    "df.show()"
   ]
  },
  {
   "cell_type": "code",
   "execution_count": 23,
   "id": "7598402b",
   "metadata": {},
   "outputs": [],
   "source": [
    "# Import PySpark SQL functions module with an alias 'F'\n",
    "from pyspark.sql import functions as F"
   ]
  },
  {
   "cell_type": "code",
   "execution_count": 24,
   "id": "ccfbef20",
   "metadata": {},
   "outputs": [
    {
     "name": "stderr",
     "output_type": "stream",
     "text": [
      "\r",
      "[Stage 10:===========================================>              (3 + 1) / 4]\r"
     ]
    },
    {
     "name": "stdout",
     "output_type": "stream",
     "text": [
      "+-----------+------------+------------+------------+\n",
      "|pickup_date|dropoff_date|PULocationID|DOLocationID|\n",
      "+-----------+------------+------------+------------+\n",
      "| 2021-01-30|  2021-01-30|          74|          42|\n",
      "| 2021-01-23|  2021-01-23|          75|          51|\n",
      "| 2021-01-20|  2021-01-20|         234|         161|\n",
      "| 2021-01-20|  2021-01-20|         246|         116|\n",
      "| 2021-01-16|  2021-01-16|          18|         247|\n",
      "| 2021-01-26|  2021-01-26|          26|          26|\n",
      "| 2021-01-27|  2021-01-27|         231|          87|\n",
      "| 2021-01-23|  2021-01-23|         229|         148|\n",
      "| 2021-01-22|  2021-01-23|         222|          76|\n",
      "| 2021-01-09|  2021-01-09|          70|           7|\n",
      "| 2021-01-31|  2021-01-31|         219|         191|\n",
      "| 2021-01-11|  2021-01-11|         216|         225|\n",
      "| 2021-01-09|  2021-01-09|          49|         164|\n",
      "| 2021-01-15|  2021-01-15|         107|         158|\n",
      "| 2021-01-31|  2021-01-31|          61|          36|\n",
      "| 2021-01-26|  2021-01-26|         203|         203|\n",
      "| 2021-01-15|  2021-01-15|         116|          47|\n",
      "| 2021-01-27|  2021-01-27|         181|          14|\n",
      "| 2021-01-30|  2021-01-30|          61|          49|\n",
      "| 2021-01-01|  2021-01-01|         262|          41|\n",
      "+-----------+------------+------------+------------+\n",
      "only showing top 20 rows\n",
      "\n"
     ]
    },
    {
     "name": "stderr",
     "output_type": "stream",
     "text": [
      "\r",
      "                                                                                \r"
     ]
    }
   ],
   "source": [
    "# Transform the DataFrame by adding new columns and selecting specific fields\n",
    "\n",
    "df \\\n",
    "    # Create a new column 'pickup_date' by extracting the date from 'pickup_datetime'\n",
    "    .withColumn('pickup_date', F.to_date(df.pickup_datetime)) \\\n",
    "    \n",
    "    # Create a new column 'dropoff_date' by extracting the date from 'dropoff_datetime'\n",
    "    .withColumn('dropoff_date', F.to_date(df.dropoff_datetime)) \\\n",
    "    \n",
    "    # Select specific columns for further processing or inspection\n",
    "    .select('pickup_date', 'dropoff_date', 'PULocationID', 'DOLocationID') \\\n",
    "    \n",
    "    # Show the first 20 rows of the resulting DataFrame\n",
    "    .show()\n"
   ]
  },
  {
   "cell_type": "code",
   "execution_count": 25,
   "id": "d4269785",
   "metadata": {},
   "outputs": [],
   "source": [
    "# Perform the aggregation: Sum miles traveled by pickup location\n",
    "aggregated_df = df.groupBy(\"PULocationID\").agg(\n",
    "    spark_sum(\"trip_miles\").alias(\"total_miles_traveled\")\n",
    ")"
   ]
  },
  {
   "cell_type": "code",
   "execution_count": 26,
   "id": "542d5b0d",
   "metadata": {},
   "outputs": [],
   "source": [
    "# Sort the results in descending order of total miles\n",
    "aggregated_df = aggregated_df.orderBy(col(\"total_miles_traveled\").desc())"
   ]
  },
  {
   "cell_type": "code",
   "execution_count": 27,
   "id": "3facf04a",
   "metadata": {},
   "outputs": [
    {
     "name": "stderr",
     "output_type": "stream",
     "text": [
      "[Stage 15:===================================================>    (22 + 2) / 24]\r"
     ]
    },
    {
     "name": "stdout",
     "output_type": "stream",
     "text": [
      "+------------+--------------------+\n",
      "|PULocationID|total_miles_traveled|\n",
      "+------------+--------------------+\n",
      "|         132|  1557488.3880000005|\n",
      "|         138|   820273.3120000021|\n",
      "|          61|   811149.6109999974|\n",
      "|          76|   759131.2820000019|\n",
      "|          42|   673048.3449999972|\n",
      "|         244|    642341.228999999|\n",
      "|          37|   597753.1059999964|\n",
      "|          39|   523929.1189999995|\n",
      "|          74|   507618.4289999965|\n",
      "|          89|  506878.12600000115|\n",
      "|         225|   493308.9000000046|\n",
      "|           7|   479864.4870000013|\n",
      "|          75|  475414.34199999925|\n",
      "|          79|   471258.2480000017|\n",
      "|          17|   471169.6469999993|\n",
      "|         188|  456665.89599999774|\n",
      "|         231|   442949.4580000007|\n",
      "|          35|  435490.47300000134|\n",
      "|         168|   435432.8990000009|\n",
      "|          48|  429663.33100000105|\n",
      "+------------+--------------------+\n",
      "only showing top 20 rows\n",
      "\n"
     ]
    },
    {
     "name": "stderr",
     "output_type": "stream",
     "text": [
      "\r",
      "                                                                                \r"
     ]
    }
   ],
   "source": [
    "# Show the aggregated results\n",
    "aggregated_df.show()\n"
   ]
  },
  {
   "cell_type": "code",
   "execution_count": 28,
   "id": "f460e3a4",
   "metadata": {},
   "outputs": [],
   "source": [
    "# Aggregating revenue components by pickup location\n",
    "revenue_df = df.groupBy(\"PULocationID\").agg(\n",
    "    spark_sum(\"base_passenger_fare\").alias(\"total_fare\"),\n",
    "    spark_sum(\"tips\").alias(\"total_tips\"),\n",
    "    spark_sum(\"tolls\").alias(\"total_tolls\"),\n",
    "    (spark_sum(\"base_passenger_fare\") + spark_sum(\"tips\") + spark_sum(\"tolls\")).alias(\"total_revenue\")\n",
    ")"
   ]
  },
  {
   "cell_type": "code",
   "execution_count": 29,
   "id": "94684fd1",
   "metadata": {},
   "outputs": [],
   "source": [
    "# Order results by total revenue in descending order\n",
    "revenue_df = revenue_df.orderBy(col(\"total_revenue\").desc())"
   ]
  },
  {
   "cell_type": "code",
   "execution_count": 30,
   "id": "5d1d38ff",
   "metadata": {},
   "outputs": [
    {
     "name": "stderr",
     "output_type": "stream",
     "text": [
      "[Stage 21:=================================================>      (21 + 3) / 24]\r"
     ]
    },
    {
     "name": "stdout",
     "output_type": "stream",
     "text": [
      "+------------+------------------+------------------+------------------+------------------+\n",
      "|PULocationID|        total_fare|        total_tips|       total_tolls|     total_revenue|\n",
      "+------------+------------------+------------------+------------------+------------------+\n",
      "|         132| 4421060.100000002|150707.65999999995|266604.16000000294|4838371.9200000055|\n",
      "|          61|3549191.7400000263| 83230.73000000005|  56794.3299999998| 3689216.800000026|\n",
      "|         138|2623634.6199999996|         114626.52|246236.33000000185|2984497.4700000016|\n",
      "|          76|2838696.6900000074| 25652.32000000001| 50450.76999999974| 2914799.780000007|\n",
      "|          37|2586615.2200000174| 69947.91000000003|  71450.3799999996| 2728013.510000017|\n",
      "|          42|  2509780.78000004| 55064.50000000004|108541.53999999938|2673386.8200000394|\n",
      "|         244| 2233489.120000002| 67305.06000000001|125807.67999999982|2426601.8600000017|\n",
      "|         225|2177129.1400000183| 52442.77000000001| 47570.77999999983| 2277142.690000018|\n",
      "|          79|2049765.3400000252| 79791.22000000002| 89679.80999999975| 2219236.370000025|\n",
      "|          17|2068479.2100000281| 54078.18000000002|42499.559999999874| 2165056.950000028|\n",
      "|          89| 2051974.040000014| 54366.53000000001|52107.449999999786|2158448.0200000135|\n",
      "|         231|1937236.2100000156| 76585.63000000002| 91530.59999999983|2105352.4400000153|\n",
      "|         188|1998377.2399999988|          48676.73| 36498.27999999991|2083552.2499999986|\n",
      "|          39| 1987947.770000008| 20522.83000000001|31218.349999999948|2039688.9500000079|\n",
      "|          74|1874244.7900000163| 42797.23000000001| 91205.78999999944|2008247.8100000157|\n",
      "|           7|1799608.0500000115| 74579.75000000003| 82371.62999999944|1956559.4300000109|\n",
      "|          75| 1778321.480000016| 53113.84000000002| 90701.25999999944|1922136.5800000157|\n",
      "|         181|1747344.8300000078| 98228.06000000004|  50775.3199999998|1896348.2100000076|\n",
      "|          48|1679446.6800000162| 68048.81000000001| 147262.0499999995|1894757.5400000159|\n",
      "|          35|1792504.2500000251|           13549.9| 35811.67999999992| 1841865.830000025|\n",
      "+------------+------------------+------------------+------------------+------------------+\n",
      "only showing top 20 rows\n",
      "\n"
     ]
    },
    {
     "name": "stderr",
     "output_type": "stream",
     "text": [
      "\r",
      "                                                                                \r"
     ]
    }
   ],
   "source": [
    "# Show the result\n",
    "revenue_df.show()"
   ]
  },
  {
   "cell_type": "code",
   "execution_count": 31,
   "id": "847869b0",
   "metadata": {},
   "outputs": [
    {
     "name": "stderr",
     "output_type": "stream",
     "text": [
      "                                                                                \r"
     ]
    }
   ],
   "source": [
    "\n",
    "# Save the results to Parquet\n",
    "revenue_df.write.mode(\"overwrite\").parquet(\"output/revenue_by_pickup_location.parquet\")"
   ]
  },
  {
   "cell_type": "code",
   "execution_count": 32,
   "id": "d94ef67e",
   "metadata": {},
   "outputs": [
    {
     "name": "stderr",
     "output_type": "stream",
     "text": [
      "                                                                                \r"
     ]
    },
    {
     "name": "stdout",
     "output_type": "stream",
     "text": [
      "+--------------------+------------------+------------------+\n",
      "|dispatching_base_num| avg_trip_distance|     avg_trip_time|\n",
      "+--------------------+------------------+------------------+\n",
      "|              B02876| 4.535434313402564| 947.8165750741119|\n",
      "|              B03136|3.8182075976457996| 939.3638309256287|\n",
      "|              B02877| 4.479920138191076| 936.3618615601046|\n",
      "|              B02869| 4.557642524408418|   956.82496051741|\n",
      "|              B02883| 4.549834271641001| 951.7772652585221|\n",
      "|              B02835| 4.444018058352365| 931.5443888691793|\n",
      "|              B02884| 4.490663047106027| 945.1042402415455|\n",
      "|              B02880| 4.555735023872853| 950.5938341738481|\n",
      "|              B02878| 4.384423693884554| 928.8864149891191|\n",
      "|              B02836|4.4604985573326665| 938.0215723292844|\n",
      "|              B02872| 4.417193889465468| 944.6387043764055|\n",
      "|              B02512| 4.473853858153785| 964.5206981528792|\n",
      "|              B02867| 4.517315830378619| 952.9899010802533|\n",
      "|              B02866|4.4954683225877385| 952.0282144635502|\n",
      "|              B02871| 4.429145735189426| 957.0779314419013|\n",
      "|              B02889| 4.468690745525375| 950.2587785646394|\n",
      "|              B02844| 4.691741353383459|1252.9166917293232|\n",
      "|              B02510|4.6152262432869575|  972.821324813976|\n",
      "|              B02888| 4.496494181658427| 946.7558380552207|\n",
      "|              B02682|  4.46830397482579| 944.7508760910326|\n",
      "+--------------------+------------------+------------------+\n",
      "only showing top 20 rows\n",
      "\n"
     ]
    },
    {
     "name": "stderr",
     "output_type": "stream",
     "text": [
      "                                                                                \r"
     ]
    }
   ],
   "source": [
    "# Calculate average trip distance and time by base\n",
    "avg_trip_metrics_df = df.groupBy(\"dispatching_base_num\").agg(\n",
    "    F.avg(\"trip_miles\").alias(\"avg_trip_distance\"),\n",
    "    F.avg(\"trip_time\").alias(\"avg_trip_time\")\n",
    ")\n",
    "\n",
    "# Show the result\n",
    "avg_trip_metrics_df.show()\n",
    "\n",
    "# Save the results to Parquet\n",
    "avg_trip_metrics_df.write.mode(\"overwrite\").parquet(\"output/avg_trip_metrics_by_base.parquet\")\n"
   ]
  },
  {
   "cell_type": "code",
   "execution_count": 33,
   "id": "8bd18216",
   "metadata": {},
   "outputs": [
    {
     "name": "stderr",
     "output_type": "stream",
     "text": [
      "[Stage 52:===================================================>    (22 + 2) / 24]\r"
     ]
    },
    {
     "name": "stdout",
     "output_type": "stream",
     "text": [
      "+------------+------+\n",
      "|DOLocationID| count|\n",
      "+------------+------+\n",
      "|         265|369502|\n",
      "|          61|218654|\n",
      "|          76|181207|\n",
      "|          37|148401|\n",
      "|          42|144159|\n",
      "|         244|128205|\n",
      "|          17|126426|\n",
      "|         225|125420|\n",
      "|         188|121635|\n",
      "|          89|120126|\n",
      "+------------+------+\n",
      "only showing top 10 rows\n",
      "\n"
     ]
    },
    {
     "name": "stderr",
     "output_type": "stream",
     "text": [
      "\r",
      "                                                                                \r"
     ]
    }
   ],
   "source": [
    "# Count trips by drop-off location\n",
    "dropoff_count_df = df.groupBy(\"DOLocationID\").count().alias(\"trip_count\")\n",
    "\n",
    "# Order by trip count in descending order\n",
    "dropoff_count_df = dropoff_count_df.orderBy(col(\"count\").desc())\n",
    "\n",
    "# Show the top 10 drop-off locations\n",
    "dropoff_count_df.show(10)\n"
   ]
  },
  {
   "cell_type": "code",
   "execution_count": 34,
   "id": "7f3ffe9d",
   "metadata": {},
   "outputs": [
    {
     "name": "stderr",
     "output_type": "stream",
     "text": [
      "[Stage 58:=================================================>      (21 + 3) / 24]\r"
     ]
    },
    {
     "name": "stdout",
     "output_type": "stream",
     "text": [
      "+----+------+\n",
      "|hour| count|\n",
      "+----+------+\n",
      "|   0|361590|\n",
      "|   1|267724|\n",
      "|   2|196304|\n",
      "|   3|150020|\n",
      "|   4|135427|\n",
      "|   5|188020|\n",
      "|   6|317002|\n",
      "|   7|467825|\n",
      "|   8|587343|\n",
      "|   9|545605|\n",
      "|  10|528413|\n",
      "|  11|536807|\n",
      "|  12|572737|\n",
      "|  13|618757|\n",
      "|  14|674211|\n",
      "|  15|698975|\n",
      "|  16|708869|\n",
      "|  17|765136|\n",
      "|  18|765787|\n",
      "|  19|711875|\n",
      "+----+------+\n",
      "only showing top 20 rows\n",
      "\n"
     ]
    },
    {
     "name": "stderr",
     "output_type": "stream",
     "text": [
      "\r",
      "                                                                                \r"
     ]
    }
   ],
   "source": [
    "# Extract hour from pickup datetime\n",
    "hourly_trips_df = df.withColumn(\"hour\", F.hour(\"pickup_datetime\"))\n",
    "\n",
    "# Count trips by hour\n",
    "hourly_trip_counts = hourly_trips_df.groupBy(\"hour\").count().alias(\"trip_count\")\n",
    "\n",
    "# Order by hour\n",
    "hourly_trip_counts = hourly_trip_counts.orderBy(col(\"hour\"))\n",
    "\n",
    "# Show the result\n",
    "hourly_trip_counts.show()"
   ]
  },
  {
   "cell_type": "code",
   "execution_count": 35,
   "id": "913d7e33",
   "metadata": {},
   "outputs": [],
   "source": [
    "# This can improve parallelism and performance for large-scale transformations\n",
    "df = df.repartition(24)"
   ]
  },
  {
   "cell_type": "code",
   "execution_count": 36,
   "id": "59700188",
   "metadata": {},
   "outputs": [
    {
     "name": "stderr",
     "output_type": "stream",
     "text": [
      "[Stage 62:===========================================>              (3 + 1) / 4]\r"
     ]
    },
    {
     "name": "stdout",
     "output_type": "stream",
     "text": [
      "Number of partitions after repartitioning: 24\n"
     ]
    }
   ],
   "source": [
    "# Verify the new number of partitions\n",
    "print(f\"Number of partitions after repartitioning: {df.rdd.getNumPartitions()}\")"
   ]
  },
  {
   "cell_type": "code",
   "execution_count": 37,
   "id": "5358cf52",
   "metadata": {},
   "outputs": [],
   "source": [
    "# Perform a transformation (e.g., aggregating total miles by pickup location)\n",
    "aggregated_df = df.groupBy(\"PULocationID\").agg(\n",
    "    spark_sum(\"trip_miles\").alias(\"total_miles_traveled\")\n",
    ")"
   ]
  },
  {
   "cell_type": "code",
   "execution_count": 38,
   "id": "b5fb47a3",
   "metadata": {},
   "outputs": [
    {
     "name": "stderr",
     "output_type": "stream",
     "text": [
      "[Stage 65:===================================================>    (22 + 2) / 24]\r"
     ]
    },
    {
     "name": "stdout",
     "output_type": "stream",
     "text": [
      "+------------+------------------+\n",
      "|PULocationID|  revenue_per_mile|\n",
      "+------------+------------------+\n",
      "|         105| 5.970031545741325|\n",
      "|         158| 5.162613742959451|\n",
      "|         211| 5.137757542715089|\n",
      "|         249| 5.107520722462131|\n",
      "|         113| 5.065563055110756|\n",
      "|         114| 5.015485077531107|\n",
      "|         234| 4.989990119586515|\n",
      "|         237| 4.938703931272939|\n",
      "|         125|4.9086389504198715|\n",
      "|         161|  4.90826174946643|\n",
      "|          90|4.8992049671870115|\n",
      "|         144| 4.896951486930965|\n",
      "|         246| 4.865361593947758|\n",
      "|         217| 4.841148664717978|\n",
      "|          43| 4.813942657132882|\n",
      "|         194| 4.798026733981097|\n",
      "|         255| 4.771493134776462|\n",
      "|         189| 4.763575819408854|\n",
      "|          26| 4.757514567269955|\n",
      "|         163| 4.755057410109206|\n",
      "+------------+------------------+\n",
      "only showing top 20 rows\n",
      "\n"
     ]
    },
    {
     "name": "stderr",
     "output_type": "stream",
     "text": [
      "\r",
      "                                                                                \r"
     ]
    }
   ],
   "source": [
    "# Calculate revenue per mile for each pickup location\n",
    "pricing_efficiency_df = df.withColumn(\"total_revenue\", F.col(\"base_passenger_fare\") + F.col(\"tips\") + F.col(\"tolls\")) \\\n",
    "    .groupBy(\"PULocationID\").agg(\n",
    "        (F.sum(\"total_revenue\") / F.sum(\"trip_miles\")).alias(\"revenue_per_mile\")\n",
    "    )\n",
    "\n",
    "# Order by revenue per mile in descending order\n",
    "pricing_efficiency_df = pricing_efficiency_df.orderBy(col(\"revenue_per_mile\").desc())\n",
    "\n",
    "# Show the result\n",
    "pricing_efficiency_df.show()\n"
   ]
  },
  {
   "cell_type": "code",
   "execution_count": 39,
   "id": "4f8bffa7",
   "metadata": {},
   "outputs": [],
   "source": [
    "# End the Spark session\n",
    "spark.stop()"
   ]
  },
  {
   "cell_type": "code",
   "execution_count": null,
   "id": "5295da99",
   "metadata": {},
   "outputs": [],
   "source": []
  }
 ],
 "metadata": {
  "kernelspec": {
   "display_name": "Python 3 (ipykernel)",
   "language": "python",
   "name": "python3"
  },
  "language_info": {
   "codemirror_mode": {
    "name": "ipython",
    "version": 3
   },
   "file_extension": ".py",
   "mimetype": "text/x-python",
   "name": "python",
   "nbconvert_exporter": "python",
   "pygments_lexer": "ipython3",
   "version": "3.10.12"
  }
 },
 "nbformat": 4,
 "nbformat_minor": 5
}
